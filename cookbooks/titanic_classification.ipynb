{
 "cells": [
  {
   "cell_type": "code",
   "execution_count": null,
   "metadata": {},
   "outputs": [],
   "source": [
    "import torch\n",
    "import pandas as pd\n",
    "import torch.nn as nn\n",
    "import numpy as np\n",
    "from torch.utils.data import DataLoader, TensorDataset"
   ]
  },
  {
   "cell_type": "code",
   "execution_count": null,
   "metadata": {},
   "outputs": [],
   "source": [
    "def clean_dataset(path, test = False):\n",
    "    df = pd.read_csv(path)\n",
    "    del df['PassengerId'] # not neccessary\n",
    "    del df['Name'] # not neccessary\n",
    "    del df['Ticket'] # can be infered from Pclass and Fare\n",
    "    del df['Cabin'] # can be infered from Pclass and Fare\n",
    "    del df['Embarked'] # can be infered from Pclass and Fare\n",
    "    arr = df.to_numpy()\n",
    "    if test:\n",
    "        arr[:, 1] = np.where(arr[:, 1] == 'male', 0, 1)\n",
    "    else:\n",
    "        arr[:, 2] = np.where(arr[:, 2] == 'male', 0, 1)\n",
    "    arr = arr.astype(float)\n",
    "    for i in range(arr.shape[1]):\n",
    "        if np.issubdtype(arr[:, i].dtype, np.float64):\n",
    "            arr[:, i] /= max(arr[:, i])\n",
    "            median = np.nanmedian(arr[:, i]) \n",
    "            arr[:, i] = np.where(np.isnan(arr[:, i]), median, arr[:, i])  # replace NaNs\n",
    "    return arr\n",
    "arr = clean_dataset(path='../dataset/titanic/train.csv')"
   ]
  },
  {
   "cell_type": "code",
   "execution_count": null,
   "metadata": {},
   "outputs": [],
   "source": [
    "Xtrain = torch.tensor(arr[:,1:], dtype=torch.float32)\n",
    "ytrain = torch.tensor(arr[:,:1], dtype=torch.long).squeeze(1)\n",
    "dataset = TensorDataset(Xtrain, ytrain)\n",
    "dataloader = DataLoader(dataset=dataset, batch_size=10, shuffle=True)\n",
    "Xtrain"
   ]
  },
  {
   "cell_type": "code",
   "execution_count": null,
   "metadata": {},
   "outputs": [],
   "source": [
    "class MLP(nn.Module):\n",
    "    def __init__(self) -> None:\n",
    "        super().__init__()\n",
    "        self.layers = nn.Sequential(\n",
    "            nn.Linear(6,128),\n",
    "            nn.ReLU(),\n",
    "            nn.Linear(128,64),\n",
    "            nn.ReLU(),\n",
    "            nn.Linear(64,2),\n",
    "        )\n",
    "    def forward(self, x):\n",
    "        return self.layers(x)\n",
    "    \n",
    "model = MLP()"
   ]
  },
  {
   "cell_type": "code",
   "execution_count": null,
   "metadata": {},
   "outputs": [],
   "source": [
    "optimizer = torch.optim.Adam(model.parameters(), lr = 0.01)\n",
    "loss_function = torch.nn.CrossEntropyLoss()\n",
    "\n",
    "for k in range(1000):\n",
    "    current_loss = 0.0\n",
    "    for batch_idx, (x_batch, y_batch) in enumerate(dataloader):\n",
    "        optimizer.zero_grad()\n",
    "        output = model(x_batch).squeeze(1)\n",
    "        loss = loss_function(output, y_batch)\n",
    "        loss.backward()\n",
    "        optimizer.step()\n",
    "        current_loss += loss.item()\n",
    "    print(f'Epoch {k}, Avg Loss: {current_loss / len(dataloader)}')\n",
    "print(\"Training complete\")"
   ]
  },
  {
   "cell_type": "code",
   "execution_count": null,
   "metadata": {},
   "outputs": [],
   "source": [
    "arr = clean_dataset(path=\"../dataset/titanic/test.csv\", test=True)\n",
    "print(arr)\n",
    "test_features = torch.tensor(arr, dtype = torch.float32)\n",
    "outputs = model(test_features)\n",
    "_, predicted_class = torch.max(outputs, 1)\n",
    "\n",
    "submission_df = pd.DataFrame(predicted_class.numpy(), columns=['Survived'])\n",
    "submission_df\n",
    "submission_df.insert(0, 'PassengerId', range(892, 892 + len(submission_df)))\n",
    "\n",
    "submission_df.to_csv('submission.csv', index=False)\n",
    "\n",
    "print(\"The predictions have been saved to 'submission.csv'\")\n",
    "\n",
    "\n"
   ]
  },
  {
   "cell_type": "code",
   "execution_count": 14,
   "metadata": {},
   "outputs": [],
   "source": [
    "torch.save(model, '../models/titanic.pth')"
   ]
  }
 ],
 "metadata": {
  "kernelspec": {
   "display_name": "venv",
   "language": "python",
   "name": "python3"
  },
  "language_info": {
   "codemirror_mode": {
    "name": "ipython",
    "version": 3
   },
   "file_extension": ".py",
   "mimetype": "text/x-python",
   "name": "python",
   "nbconvert_exporter": "python",
   "pygments_lexer": "ipython3",
   "version": "3.10.11"
  }
 },
 "nbformat": 4,
 "nbformat_minor": 2
}
