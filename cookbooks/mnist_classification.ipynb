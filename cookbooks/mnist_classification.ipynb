{
 "cells": [
  {
   "cell_type": "code",
   "execution_count": null,
   "metadata": {},
   "outputs": [],
   "source": [
    "import torch\n",
    "import torch.nn as nn\n",
    "from torch.utils.data import DataLoader, TensorDataset, random_split\n",
    "import pandas as pd"
   ]
  },
  {
   "cell_type": "code",
   "execution_count": null,
   "metadata": {},
   "outputs": [],
   "source": [
    "df = pd.read_csv('../dataset/mnist/train.csv').to_numpy()\n",
    "train_label = torch.tensor(df[:,:1], dtype = torch.long)\n",
    "train_features = torch.tensor(df[:,1:], dtype = torch.float32)\n",
    "train_features /= 255.0 # feature scaling\n",
    "train_label = train_label.squeeze(1)\n",
    "generator = torch.Generator().manual_seed(42)\n",
    "dataset = TensorDataset(train_features, train_label)"
   ]
  },
  {
   "cell_type": "code",
   "execution_count": null,
   "metadata": {},
   "outputs": [],
   "source": [
    "class MLP(nn.Module):\n",
    "    def __init__(self) -> None:\n",
    "        super().__init__()\n",
    "        self.layers = nn.Sequential(\n",
    "            nn.Linear(784, 128),\n",
    "            nn.ReLU(),\n",
    "            nn.Linear(128, 64),\n",
    "            nn.ReLU(),\n",
    "            nn.Linear(64, 32),\n",
    "            nn.ReLU(),\n",
    "            nn.Linear(32, 10)\n",
    "        )\n",
    "    def forward(self, x):\n",
    "        return self.layers(x)\n",
    "    \n",
    "\"\"\"\n",
    "\n",
    "Batch of raw class scores (before softmax):\n",
    "[\n",
    "  [z_1_1, z_1_2, ..., z_1_10],  # First sample\n",
    "  [z_2_1, z_2_2, ..., z_2_10],  # Second sample\n",
    "  [z_3_1, z_3_2, ..., z_3_10]   # Third sample\n",
    "]\n",
    "Shape: (3, 10)\n",
    "By dim=1, we are saying apply it row wise to turn it into probabilities logits\n",
    "\n",
    "\"\"\"\n",
    "\n",
    "model = MLP()"
   ]
  },
  {
   "cell_type": "code",
   "execution_count": null,
   "metadata": {},
   "outputs": [],
   "source": [
    "train_features.shape\n",
    "train_label.shape\n",
    "dataset.tensors\n"
   ]
  },
  {
   "cell_type": "code",
   "execution_count": null,
   "metadata": {},
   "outputs": [],
   "source": [
    "loss_function = torch.nn.CrossEntropyLoss()\n",
    "optimizer = torch.optim.Adam(model.parameters(), lr=1e-4)\n",
    "dataloader = DataLoader(dataset=dataset, batch_size=500, shuffle=True, generator=generator)\n",
    "\n",
    "for k in range(100):\n",
    "    print(f\"Starting Epoch {k}\")\n",
    "    current_loss = 0.0\n",
    "\n",
    "    for batch_idx, (x_batch, y_batch) in enumerate(dataloader):\n",
    "        optimizer.zero_grad()\n",
    "        outputs = model(x_batch)\n",
    "        loss = loss_function(outputs, y_batch)\n",
    "        \n",
    "        current_loss += loss\n",
    "        loss.backward()\n",
    "        optimizer.step()\n",
    "\n",
    "        if (batch_idx+1) % 84 == 0:\n",
    "            print(f\"Loss after {batch_idx+1} is {current_loss/84}\")\n",
    "\n",
    "\n",
    "print(\"Training complete\")\n",
    "\n",
    "\n",
    "\n"
   ]
  },
  {
   "cell_type": "code",
   "execution_count": null,
   "metadata": {},
   "outputs": [],
   "source": [
    "df = pd.read_csv('../dataset/mnist/test.csv').to_numpy()\n",
    "test_features = torch.tensor(df[:,:], dtype = torch.float32)\n",
    "test_features /= 255.0\n",
    "outputs = model(test_features)\n",
    "_, predicted_class = torch.max(outputs, 1)\n",
    "\n",
    "submission_df = pd.DataFrame(predicted_class.numpy(), columns=['Label'])\n",
    "\n",
    "submission_df.insert(0, 'ImageId', range(1, 1 + len(submission_df)))\n",
    "\n",
    "submission_df.to_csv('submission.csv', index=False)\n",
    "\n",
    "print(\"The predictions have been saved to 'submission.csv'\")\n",
    "\n",
    "\n"
   ]
  }
 ],
 "metadata": {
  "kernelspec": {
   "display_name": "Python 3",
   "language": "python",
   "name": "python3"
  },
  "language_info": {
   "codemirror_mode": {
    "name": "ipython",
    "version": 3
   },
   "file_extension": ".py",
   "mimetype": "text/x-python",
   "name": "python",
   "nbconvert_exporter": "python",
   "pygments_lexer": "ipython3",
   "version": "3.10.11"
  }
 },
 "nbformat": 4,
 "nbformat_minor": 2
}
